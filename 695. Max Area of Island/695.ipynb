{
 "cells": [
  {
   "cell_type": "code",
   "execution_count": 7,
   "metadata": {},
   "outputs": [],
   "source": [
    "from collections import deque\n",
    "class Solution:\n",
    "\n",
    "    def is_range(self, arr, i, j):\n",
    "        return 0 <= i < len(arr) and 0 <= j < len(arr[0])\n",
    "\n",
    "    def maxAreaOfIsland_rec(self, grid):\n",
    "        \"\"\"\n",
    "        :type grid: List[List[int]]\n",
    "        :rtype: int\n",
    "        \"\"\"\n",
    "\n",
    "        searched = set()\n",
    "\n",
    "        def area(r, c):\n",
    "            if not (self.is_range(grid, r, c) and grid[r][c] == 1 and (r, c) not in searched):\n",
    "                return 0\n",
    "            searched.add((r, c))\n",
    "            return 1 + area(r + 1, c) + area(r - 1, c) + \\\n",
    "                area(r, c - 1) + area(r, c + 1)\n",
    "\n",
    "        return max(area(r, c) for r in range(len(grid)) for c in range(len(grid[0])))\n",
    "\n",
    "    def maxAreaOfIsland(self, grid):\n",
    "        searched = {}\n",
    "        max_isl = 0\n",
    "        for r in range(len(grid)):\n",
    "            for c in range(len(grid[0])):\n",
    "                # 该点还没搜索过且这个点是岛屿，把它压入栈中\n",
    "                if (r, c) not in searched and grid[r][c] == 1:\n",
    "                    current_cnt = 0\n",
    "                    stack = deque()\n",
    "                    stack.append((r, c))\n",
    "                    searched[(r, c)] = True\n",
    "                    # 从栈顶弹出元素\n",
    "                    while stack:\n",
    "                        sr, sc = stack.pop()\n",
    "                        current_cnt += 1\n",
    "                        for nr, nc in ((sr - 1, sc), (sr, sc - 1), (sr, sc + 1), (sr + 1, sc)):\n",
    "                            if self.is_range(grid, nr, nc) and grid[nr][nc] == 1 and (nr, nc) not in searched:\n",
    "                                stack.append((nr, nc))\n",
    "                                searched[(nr, nc)] = True\n",
    "                    max_isl = max(max_isl, current_cnt)\n",
    "        return max_isl"
   ]
  },
  {
   "cell_type": "code",
   "execution_count": 8,
   "metadata": {
    "collapsed": true
   },
   "outputs": [],
   "source": [
    "grid = [[0, 0, 1, 0, 0, 0, 0, 1, 0, 0, 0, 0, 0],\n",
    "        [0, 0, 0, 0, 0, 0, 0, 1, 1, 1, 0, 0, 0],\n",
    "        [0, 1, 1, 0, 1, 0, 0, 0, 0, 0, 0, 0, 0],\n",
    "        [0, 1, 0, 0, 1, 1, 0, 0, 1, 0, 1, 0, 0],\n",
    "        [0, 1, 0, 0, 1, 1, 0, 0, 1, 1, 1, 0, 0],\n",
    "        [0, 0, 0, 0, 0, 0, 0, 0, 0, 0, 1, 0, 0],\n",
    "        [0, 0, 0, 0, 0, 0, 0, 1, 1, 1, 0, 0, 0],\n",
    "        [0, 0, 0, 0, 0, 0, 0, 1, 1, 0, 0, 0, 0]]\n",
    "s = Solution()"
   ]
  },
  {
   "cell_type": "code",
   "execution_count": 9,
   "metadata": {},
   "outputs": [
    {
     "name": "stdout",
     "output_type": "stream",
     "text": [
      "173 µs ± 8.12 µs per loop (mean ± std. dev. of 7 runs, 10000 loops each)\n"
     ]
    }
   ],
   "source": [
    "%timeit s.maxAreaOfIsland_rec(grid)"
   ]
  },
  {
   "cell_type": "code",
   "execution_count": 10,
   "metadata": {},
   "outputs": [
    {
     "name": "stdout",
     "output_type": "stream",
     "text": [
      "111 µs ± 8.63 µs per loop (mean ± std. dev. of 7 runs, 10000 loops each)\n"
     ]
    }
   ],
   "source": [
    "%timeit s.maxAreaOfIsland(grid)"
   ]
  },
  {
   "cell_type": "code",
   "execution_count": null,
   "metadata": {
    "collapsed": true
   },
   "outputs": [],
   "source": []
  }
 ],
 "metadata": {
  "kernelspec": {
   "display_name": "Python 3",
   "language": "python",
   "name": "python3"
  },
  "language_info": {
   "codemirror_mode": {
    "name": "ipython",
    "version": 3
   },
   "file_extension": ".py",
   "mimetype": "text/x-python",
   "name": "python",
   "nbconvert_exporter": "python",
   "pygments_lexer": "ipython3",
   "version": "3.6.2"
  },
  "toc": {
   "base_numbering": 1.0,
   "nav_menu": {},
   "number_sections": true,
   "sideBar": true,
   "skip_h1_title": false,
   "title_cell": "Table of Contents",
   "title_sidebar": "Contents",
   "toc_cell": false,
   "toc_position": {},
   "toc_section_display": true,
   "toc_window_display": false
  }
 },
 "nbformat": 4,
 "nbformat_minor": 2
}
